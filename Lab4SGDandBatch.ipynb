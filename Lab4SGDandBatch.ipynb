{
 "cells": [
  {
   "cell_type": "code",
   "execution_count": 1,
   "id": "eee81c4e-531a-4017-b294-10bf646a8a0c",
   "metadata": {},
   "outputs": [
    {
     "name": "stdout",
     "output_type": "stream",
     "text": [
      "Final weights with SGD: [ 1.76405235 -0.09984279 -0.02126202]\n",
      "Final weights with Batch Gradient Descent: [ 2.2408932   1.36755799 -1.47727788]\n",
      "SGD Predictions: [0, 0, 1, 1]\n",
      "Batch GD Predictions: [0, 0, 1, 1]\n"
     ]
    }
   ],
   "source": [
    "import numpy as np\n",
    "\n",
    "# Input and target data\n",
    "X_input = np.array([[0, 0, 1],  # Input with bias term as 1\n",
    "                    [0, 1, 1], \n",
    "                    [1, 0, 1], \n",
    "                    [1, 1, 1]])  \n",
    "D_target = np.array([0, 0, 1, 1])  # Target output\n",
    "\n",
    "# Parameters\n",
    "learning_rate = 0.1\n",
    "epochs = 10\n",
    "\n",
    "# Initialize weights randomly\n",
    "np.random.seed(0)\n",
    "weights_sgd = np.random.randn(3)  # For SGD\n",
    "weights_batch = np.random.randn(3)  # For Batch GD\n",
    "\n",
    "# Step function (activation function)\n",
    "def step_function(z):\n",
    "    return 1 if z >= 0 else 0\n",
    "\n",
    "# SGD Training\n",
    "for epoch in range(epochs):\n",
    "    for i in range(len(X_input)):\n",
    "        # Calculate weighted sum (z)\n",
    "        z = np.dot(X_input[i], weights_sgd)\n",
    "        \n",
    "        # Prediction using step function\n",
    "        y_pred = step_function(z)\n",
    "        \n",
    "        # Calculate error (D_target - y_pred)\n",
    "        error = D_target[i] - y_pred\n",
    "        \n",
    "        # Update weights using Delta rule for SGD\n",
    "        weights_sgd += learning_rate * error * X_input[i]\n",
    "\n",
    "# Batch Gradient Descent Training\n",
    "for epoch in range(epochs):\n",
    "    total_weight_update = np.zeros(3)\n",
    "    for i in range(len(X_input)):\n",
    "        # Calculate weighted sum (z)\n",
    "        z = np.dot(X_input[i], weights_batch)\n",
    "        \n",
    "        # Prediction using step function\n",
    "        y_pred = step_function(z)\n",
    "        \n",
    "        # Calculate error (D_target - y_pred)\n",
    "        error = D_target[i] - y_pred\n",
    "        \n",
    "        # Accumulate weight updates (but not updating after each sample)\n",
    "        total_weight_update += learning_rate * error * X_input[i]\n",
    "    \n",
    "    # Update weights after summing the updates from the entire dataset\n",
    "    weights_batch += total_weight_update\n",
    "\n",
    "# Final weights after training\n",
    "print('Final weights with SGD:', weights_sgd)\n",
    "print('Final weights with Batch Gradient Descent:', weights_batch)\n",
    "\n",
    "# Testing both models\n",
    "def test_model(weights):\n",
    "    predictions = []\n",
    "    for i in range(len(X_input)):\n",
    "        z = np.dot(X_input[i], weights)\n",
    "        y_pred = step_function(z)\n",
    "        predictions.append(y_pred)\n",
    "    return predictions\n",
    "\n",
    "# Predictions after training\n",
    "predictions_sgd = test_model(weights_sgd)\n",
    "predictions_batch = test_model(weights_batch)\n",
    "\n",
    "print('SGD Predictions:', predictions_sgd)\n",
    "print('Batch GD Predictions:', predictions_batch)\n"
   ]
  },
  {
   "cell_type": "code",
   "execution_count": null,
   "id": "0e0f6a0b-59d5-47ab-8ca6-3dabc2241859",
   "metadata": {},
   "outputs": [],
   "source": []
  }
 ],
 "metadata": {
  "kernelspec": {
   "display_name": "Python 3 (ipykernel)",
   "language": "python",
   "name": "python3"
  },
  "language_info": {
   "codemirror_mode": {
    "name": "ipython",
    "version": 3
   },
   "file_extension": ".py",
   "mimetype": "text/x-python",
   "name": "python",
   "nbconvert_exporter": "python",
   "pygments_lexer": "ipython3",
   "version": "3.12.4"
  }
 },
 "nbformat": 4,
 "nbformat_minor": 5
}

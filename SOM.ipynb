{
 "cells": [
  {
   "cell_type": "code",
   "execution_count": 3,
   "id": "9b7ac0ed-393c-41f8-ad73-017cc2961f7e",
   "metadata": {},
   "outputs": [
    {
     "name": "stdout",
     "output_type": "stream",
     "text": [
      "The SOM algorithm: \n",
      "\n",
      "The training data: \n",
      " [[1. 1. 0. 0. 0.]\n",
      " [0. 1. 0. 0. 0.]\n",
      " [0. 0. 1. 0. 0.]\n",
      " [0. 0. 1. 1. 0.]]\n",
      "\n",
      "Total number of data:  4\n",
      "Total number of features:  4\n",
      "Total number of Clusters:  2\n",
      "\n",
      "The initial weight: \n",
      " [[0.07 0.35]\n",
      " [1.   0.72]\n",
      " [0.64 0.45]\n",
      " [0.42 0.71]]\n",
      "\n",
      "The final weight: \n",
      " [[0.0004 0.5169]\n",
      " [0.018  0.983 ]\n",
      " [0.9854 0.0271]\n",
      " [0.5865 0.0425]]\n",
      "\n",
      "The data with cluster number: \n",
      " [[1. 1. 0. 0. 1.]\n",
      " [0. 1. 0. 0. 1.]\n",
      " [0. 0. 1. 0. 0.]\n",
      " [0. 0. 1. 1. 0.]]\n"
     ]
    },
    {
     "name": "stderr",
     "output_type": "stream",
     "text": [
      "/tmp/ipykernel_6339/3881877606.py:47: DeprecationWarning: Conversion of an array with ndim > 0 to a scalar is deprecated, and will error in future. Ensure you extract a single element from your array before performing this operation. (Deprecated NumPy 1.25.)\n",
      "  X[i,d] = cNumber[0]\n"
     ]
    }
   ],
   "source": [
    "import numpy as np, numpy.random\n",
    "from scipy.spatial import distance\n",
    "np.set_printoptions(suppress=True) #Force-suppress all exponential notation\n",
    "\n",
    "k = 2\n",
    "p = 0\n",
    "alpha = 0.7 # Initial learning rate\n",
    "\n",
    "X = np.array([\n",
    "        [1,1,0,0], \n",
    "        [0,1,0,0], \n",
    "        [0,0,1,0], \n",
    "        [0,0,1,1]])\n",
    "\n",
    "\n",
    "# Print the number of data and dimension \n",
    "n = len(X)\n",
    "d = len(X[0])\n",
    "addZeros = np.zeros((n, 1))\n",
    "X = np.append(X, addZeros, axis=1)\n",
    "print(\"The SOM algorithm: \\n\")\n",
    "print(\"The training data: \\n\", X)\n",
    "print(\"\\nTotal number of data: \",n)\n",
    "print(\"Total number of features: \",d)\n",
    "print(\"Total number of Clusters: \",k)\n",
    "\n",
    "C = np.zeros((k,d+1))\n",
    "\n",
    "weight = np.random.rand(n,k)\n",
    "print(\"\\nThe initial weight: \\n\", np.round(weight,2))\n",
    "\n",
    "for it in range(100): # Total number of iterations\n",
    "    for i in range(n):\n",
    "        distMin = 99999999\n",
    "        for j in range(k):\n",
    "            dist = np.square(distance.euclidean(weight[:,j], X[i,0:d]))\n",
    "            if distMin>dist:\n",
    "                distMin = dist\n",
    "                jMin = j\n",
    "        weight[:,jMin] = weight[:,jMin]*(1-alpha) + alpha*X[i,0:d]   \n",
    "    alpha = 0.5*alpha\n",
    "    \n",
    "print(\"\\nThe final weight: \\n\",np.round(weight,4))\n",
    "\n",
    "for i in range(n):    \n",
    "    cNumber = np.where(weight[i] == np.amax(weight[i]))\n",
    "    X[i,d] = cNumber[0]\n",
    "    \n",
    "print(\"\\nThe data with cluster number: \\n\", X)\n",
    "\n",
    "\n",
    "    "
   ]
  },
  {
   "cell_type": "code",
   "execution_count": null,
   "id": "8e015630-b868-4625-967a-52e43b97504b",
   "metadata": {},
   "outputs": [],
   "source": []
  }
 ],
 "metadata": {
  "kernelspec": {
   "display_name": "Python 3 (ipykernel)",
   "language": "python",
   "name": "python3"
  },
  "language_info": {
   "codemirror_mode": {
    "name": "ipython",
    "version": 3
   },
   "file_extension": ".py",
   "mimetype": "text/x-python",
   "name": "python",
   "nbconvert_exporter": "python",
   "pygments_lexer": "ipython3",
   "version": "3.12.4"
  }
 },
 "nbformat": 4,
 "nbformat_minor": 5
}

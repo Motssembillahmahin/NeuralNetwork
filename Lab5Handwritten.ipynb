{
 "cells": [
  {
   "cell_type": "code",
   "execution_count": 1,
   "id": "08d01136-ff26-433c-8f0b-d931be497e3a",
   "metadata": {},
   "outputs": [
    {
     "name": "stdout",
     "output_type": "stream",
     "text": [
      "Accuracy: 0.00%\n",
      "Predicted digit: 5\n"
     ]
    }
   ],
   "source": [
    "import numpy as np\n",
    "from sklearn.neural_network import MLPClassifier\n",
    "from sklearn.model_selection import train_test_split\n",
    "from sklearn.metrics import accuracy_score\n",
    "\n",
    "# Define 5x5 pixel images for digits 1 to 5 (binary representation)\n",
    "digit_1 = np.array([[0, 1, 1, 0, 0],\n",
    "                    [0, 0, 1, 0, 0],\n",
    "                    [0, 0, 1, 0, 0],\n",
    "                    [0, 0, 1, 0, 0],\n",
    "                    [0, 1, 1, 1, 0]])\n",
    "\n",
    "digit_2 = np.array([[0, 1, 1, 1, 0],\n",
    "                    [0, 0, 0, 1, 0],\n",
    "                    [0, 1, 1, 1, 0],\n",
    "                    [0, 1, 0, 0, 0],\n",
    "                    [0, 1, 1, 1, 0]])\n",
    "\n",
    "digit_3 = np.array([[0, 1, 1, 1, 0],\n",
    "                    [0, 0, 0, 1, 0],\n",
    "                    [0, 0, 1, 1, 0],\n",
    "                    [0, 0, 0, 1, 0],\n",
    "                    [0, 1, 1, 1, 0]])\n",
    "\n",
    "digit_4 = np.array([[0, 1, 0, 1, 0],\n",
    "                    [0, 1, 0, 1, 0],\n",
    "                    [0, 1, 1, 1, 0],\n",
    "                    [0, 0, 0, 1, 0],\n",
    "                    [0, 0, 0, 1, 0]])\n",
    "\n",
    "digit_5 = np.array([[0, 1, 1, 1, 0],\n",
    "                    [0, 1, 0, 0, 0],\n",
    "                    [0, 1, 1, 1, 0],\n",
    "                    [0, 0, 0, 1, 0],\n",
    "                    [0, 1, 1, 1, 0]])\n",
    "\n",
    "# Flatten the images into 25-pixel vectors\n",
    "digits = np.array([digit_1.flatten(), digit_2.flatten(), digit_3.flatten(), digit_4.flatten(), digit_5.flatten()])\n",
    "labels = np.array([1, 2, 3, 4, 5])  # Labels corresponding to the digits\n",
    "\n",
    "# Split the data into training and test sets (optional, but useful for evaluation)\n",
    "X_train, X_test, y_train, y_test = train_test_split(digits, labels, test_size=0.2, random_state=0)\n",
    "\n",
    "# Initialize a Neural Network classifier\n",
    "nn = MLPClassifier(hidden_layer_sizes=(10,), max_iter=1000, random_state=0)\n",
    "\n",
    "# Train the model\n",
    "nn.fit(X_train, y_train)\n",
    "\n",
    "# Make predictions on the test data\n",
    "y_pred = nn.predict(X_test)\n",
    "\n",
    "# Evaluate the model\n",
    "accuracy = accuracy_score(y_test, y_pred)\n",
    "print(f\"Accuracy: {accuracy * 100:.2f}%\")\n",
    "\n",
    "# Test on a new image (you can try different 5x5 representations here)\n",
    "new_digit = np.array([[0, 1, 0, 1, 0],\n",
    "                      [0, 0, 1, 0, 0],\n",
    "                      [0, 1, 0, 1, 0],\n",
    "                      [0, 0, 0, 1, 0],\n",
    "                      [0, 1, 1, 1, 0]])\n",
    "\n",
    "# Predict the digit\n",
    "new_digit_flattened = new_digit.flatten().reshape(1, -1)  # Flatten and reshape for prediction\n",
    "predicted_digit = nn.predict(new_digit_flattened)\n",
    "print(f\"Predicted digit: {predicted_digit[0]}\")\n"
   ]
  },
  {
   "cell_type": "code",
   "execution_count": null,
   "id": "23378639-2d84-4668-afbe-976bc8b11bfa",
   "metadata": {},
   "outputs": [],
   "source": []
  }
 ],
 "metadata": {
  "kernelspec": {
   "display_name": "Python 3 (ipykernel)",
   "language": "python",
   "name": "python3"
  },
  "language_info": {
   "codemirror_mode": {
    "name": "ipython",
    "version": 3
   },
   "file_extension": ".py",
   "mimetype": "text/x-python",
   "name": "python",
   "nbconvert_exporter": "python",
   "pygments_lexer": "ipython3",
   "version": "3.12.4"
  }
 },
 "nbformat": 4,
 "nbformat_minor": 5
}
